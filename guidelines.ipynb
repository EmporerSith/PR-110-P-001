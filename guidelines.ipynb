{
 "cells": [
  {
   "cell_type": "markdown",
   "metadata": {},
   "source": [
    "# An Introduction to Association Rules in Python\n",
    "\n",
    "##### Association rules is a rule-based learning method used to draw frequent patterns and correlations from datasets such as transactional and relational data.\n",
    "\n",
    "##### In essence it computes the co-occurence statistics between items, in the form of an implication expression (X → Y).\n",
    "\n",
    "##### For instance, in customer basket analysis, {diaper} → {beer} means if diaper is bought, then beer is put into basket.\n",
    "\n",
    "#### 4 fundamental concepts in association rules:\n",
    "\n",
    "* *(Not a Rule)* Support: number of times X occurs over all instances. \n",
    "\n",
    "* Support(X→Y) is the probability of co-occurence of both items within all data.\n",
    "\n",
    "* Confidence(X→Y) is the probability of Y occurs given that X is present.\n",
    "\n",
    "* Lift(X→Y) is the probability of Y being bought given that X is present, taking into account the popularity of Y as well.\n",
    "\n",
    "* Conviction(X→Y) is the measure of implication. A value > 1 indicates that Y is highly depending on X.\n",
    "\n",
    "So basically it is probability/statistics. A simple but useful decision making tool for a wide range of usages such as market basket analysis, customer relationship management, recommender system, marketing activities, network traffic analysis, intrusion detection (fraud & malware detection) and bioinformatics.\n"
   ]
  },
  {
   "cell_type": "markdown",
   "metadata": {},
   "source": [
    "# Example 1"
   ]
  },
  {
   "cell_type": "markdown",
   "metadata": {},
   "source": [
    "### Before getting into the formnulas and terminology, let's begin by a simple example.\n",
    "\n",
    "Mlxtend is a rich and useful library for machine learning. It provides methods in association rules with a major algorithm *apriori*.\n",
    "\n",
    "You can install mlxtend via pip or conda."
   ]
  },
  {
   "cell_type": "code",
   "execution_count": 13,
   "metadata": {},
   "outputs": [],
   "source": [
    "import pandas as pd\n",
    "from mlxtend.frequent_patterns import apriori\n",
    "from mlxtend.frequent_patterns import association_rules"
   ]
  },
  {
   "cell_type": "markdown",
   "metadata": {},
   "source": [
    "To use association rules, first we neeed some data in one-hot encoded format.\n",
    "\n",
    "Imagine in a grocery database, there are order id with some products..."
   ]
  },
  {
   "cell_type": "code",
   "execution_count": 14,
   "metadata": {},
   "outputs": [],
   "source": [
    "data = {\n",
    "    'ID': [1, 2, 3, 4, 5, 6],\n",
    "    'Onion': [1, 0, 0, 1, 1, 1],\n",
    "    'Potato': [1, 1, 0, 1, 1, 1],\n",
    "    'Burger': [1, 1, 0, 0, 1, 1],\n",
    "    'Milk': [0, 1, 1, 1, 0, 1],\n",
    "    'Beer': [0, 0, 1, 0, 1, 0]\n",
    "}"
   ]
  },
  {
   "cell_type": "code",
   "execution_count": 15,
   "metadata": {},
   "outputs": [],
   "source": [
    "df = pd.DataFrame(data)"
   ]
  },
  {
   "cell_type": "code",
   "execution_count": 16,
   "metadata": {},
   "outputs": [],
   "source": [
    "df = df[['ID', 'Onion', 'Potato', 'Burger', 'Milk', 'Beer' ]]"
   ]
  },
  {
   "cell_type": "code",
   "execution_count": null,
   "metadata": {},
   "outputs": [],
   "source": [
    "df"
   ]
  },
  {
   "cell_type": "markdown",
   "metadata": {},
   "source": [
    "### Then, we can generate frequent itemsets based on *support*.\n",
    "\n",
    "Here we need to set the minimum support value between [0,1]. Using min_supp = 50% means we only want itemsets that co-occur more than half of the time.\n",
    "\n",
    "`apriori(df, min_support=0.5, use_colnames=False, max_len=None)`"
   ]
  },
  {
   "cell_type": "code",
   "execution_count": 18,
   "metadata": {},
   "outputs": [],
   "source": [
    "frequent_itemsets = apriori(df[['Onion', 'Potato', 'Burger', 'Milk', 'Beer' ]], min_support=0.50, use_colnames=True)"
   ]
  },
  {
   "cell_type": "code",
   "execution_count": null,
   "metadata": {},
   "outputs": [],
   "source": [
    "frequent_itemsets"
   ]
  },
  {
   "cell_type": "markdown",
   "metadata": {},
   "source": [
    "Itemsets with 1, 2 or 3 items are returned, with support > 0.5\n",
    "\n",
    "The only itemset with 3 products is [Onion, Potato, Burger]."
   ]
  },
  {
   "cell_type": "markdown",
   "metadata": {},
   "source": [
    "### Final Step: generate the rules with their corresponding support, confidence and lift, (and leverage & conviction):\n",
    "\n",
    "```association_rules(df, metric='confidence', min_threshold=0.8)```\n",
    "\n",
    "* Here, df means the frequent_itemsets dataframe; \n",
    "\n",
    "* metrics is the parameters to consider if there is association. You can set it to one of the five metrics.\n",
    "\n",
    "* min_threshold is the mininum value for the specified metrics."
   ]
  },
  {
   "cell_type": "code",
   "execution_count": 20,
   "metadata": {},
   "outputs": [],
   "source": [
    "rules = association_rules(frequent_itemsets, metric='lift', min_threshold=1)"
   ]
  },
  {
   "cell_type": "code",
   "execution_count": null,
   "metadata": {},
   "outputs": [],
   "source": [
    "rules"
   ]
  },
  {
   "cell_type": "markdown",
   "metadata": {},
   "source": [
    "### Intrepreting the result:\n",
    "\n",
    "We can see that there are quite a few rules with a high lift value which means that it occurs more frequently than would be expected given the number of transaction and product combinations.\n",
    "\n",
    "Several are high in confidence as well. But domain knowledge will be useful in explaining the phenomenon."
   ]
  },
  {
   "cell_type": "code",
   "execution_count": null,
   "metadata": {},
   "outputs": [],
   "source": [
    "rules [ (rules['lift'] >1.125)  & (rules['confidence']> 0.8)  ]"
   ]
  },
  {
   "cell_type": "markdown",
   "metadata": {},
   "source": [
    "Subsetting the lift and confidence values return you with the itemsets that are relatively highly correlated in this data.\n",
    "\n",
    "We can see that:\n",
    "\n",
    "* **If Onion or Burger is in a users' basket, it is highly likely that the user will buy Potato as well.**\n",
    "* **If Burger and Onion is in a users' basket, it is highly likely that the user will also buy Potato.**"
   ]
  },
  {
   "cell_type": "markdown",
   "metadata": {},
   "source": [
    "### Some notes on Lift, Conviction & Leverage:\n",
    "\n",
    "\n",
    "1.  Lift(X→Y) : the likelihood of Y being bought when X is present, taking into account the popularity of Y as well.\n",
    "    > When Lift=1,  X makes no impact on Y  \n",
    "    > When Lift>1, there is a relationship between X & Y\n",
    "2.  Conviction(X→Y): Conviction is a measure of the implication and has value 1 if items are unrelated.\n",
    "    > A high conviction value means that the consequent is highly depending on the antecedent. For instance, in the case of a perfect confidence score, the denominator becomes 0 (due to 1 - 1) for which the conviction score is defined as 'inf'. Similar to lift, if items are independent, the conviction is 1.\n",
    "3.  Leverage(X→Y): the difference between the observed frequency of X and Y appearing together and the frequency that would be expected if X and Y were independent. An leverage value of 0 indicates independence."
   ]
  },
  {
   "cell_type": "markdown",
   "metadata": {},
   "source": [
    "# Example 2"
   ]
  },
  {
   "cell_type": "code",
   "execution_count": 11,
   "metadata": {},
   "outputs": [],
   "source": [
    "retail_shopping_basket = {'ID':[1,2,3,4,5,6],\n",
    "                         'Basket':[['Beer', 'Diaper', 'Pretzels', 'Chips', 'Aspirin'],\n",
    "                                   ['Diaper', 'Beer', 'Chips', 'Lotion', 'Juice', 'BabyFood', 'Milk'],\n",
    "                                   ['Soda', 'Chips', 'Milk'],\n",
    "                                   ['Soup', 'Beer', 'Diaper', 'Milk', 'IceCream'],\n",
    "                                   ['Soda', 'Coffee', 'Milk', 'Bread'],\n",
    "                                   ['Beer', 'Chips']\n",
    "                                  ]\n",
    "                         }"
   ]
  },
  {
   "cell_type": "code",
   "execution_count": 12,
   "metadata": {},
   "outputs": [],
   "source": [
    "retail = pd.DataFrame(retail_shopping_basket)"
   ]
  },
  {
   "cell_type": "code",
   "execution_count": 13,
   "metadata": {},
   "outputs": [],
   "source": [
    "retail = retail[['ID', 'Basket']]"
   ]
  },
  {
   "cell_type": "code",
   "execution_count": 14,
   "metadata": {},
   "outputs": [],
   "source": [
    "pd.options.display.max_colwidth=100"
   ]
  },
  {
   "cell_type": "markdown",
   "metadata": {},
   "source": [
    "Suppose we have a list of customer ids to a list of basket items:"
   ]
  },
  {
   "cell_type": "code",
   "execution_count": null,
   "metadata": {},
   "outputs": [],
   "source": [
    "retail"
   ]
  },
  {
   "cell_type": "markdown",
   "metadata": {},
   "source": [
    "First one-hot encode the basket, but how?"
   ]
  },
  {
   "cell_type": "code",
   "execution_count": 16,
   "metadata": {},
   "outputs": [],
   "source": [
    "#from sklearn.preprocessing import MultiLabelBinarizer\n",
    "#mlb = MultiLabelBinarizer()\n",
    "#pd.DataFrame(mlb.fit_transform(retail.Basket), columns=mlb.classes_)"
   ]
  },
  {
   "cell_type": "code",
   "execution_count": null,
   "metadata": {},
   "outputs": [],
   "source": [
    "retail = retail.drop('Basket' ,1).join(retail.Basket.str.join(',').str.get_dummies(','))"
   ]
  },
  {
   "cell_type": "code",
   "execution_count": null,
   "metadata": {},
   "outputs": [],
   "source": [
    "retail"
   ]
  },
  {
   "cell_type": "markdown",
   "metadata": {},
   "source": [
    "Making use of `Series.str.get_dummies`, we can easily encode lists of items in a dataframe's column!"
   ]
  },
  {
   "cell_type": "code",
   "execution_count": null,
   "metadata": {},
   "outputs": [],
   "source": [
    "frequent_itemsets_2 = apriori(retail.drop('ID',1), use_colnames=True)"
   ]
  },
  {
   "cell_type": "code",
   "execution_count": null,
   "metadata": {},
   "outputs": [],
   "source": [
    "frequent_itemsets_2"
   ]
  },
  {
   "cell_type": "markdown",
   "metadata": {},
   "source": [
    "Just by calculating the support(X>Y), [Beer, Chips] & [Beer, Diaper] are the two frequent basket of intereseted.\n",
    "\n",
    "But which one is more correlated than the other?"
   ]
  },
  {
   "cell_type": "code",
   "execution_count": null,
   "metadata": {},
   "outputs": [],
   "source": [
    "association_rules(frequent_itemsets_2, metric='lift')"
   ]
  },
  {
   "cell_type": "code",
   "execution_count": null,
   "metadata": {},
   "outputs": [],
   "source": [
    "association_rules(frequent_itemsets_2)"
   ]
  },
  {
   "cell_type": "markdown",
   "metadata": {},
   "source": [
    "What can you discover from the two rules? *(Tips: what are the default parameters?)*\n",
    "\n",
    "Clearly, {Diaper, Beer} is the most associated itemset in this data!"
   ]
  },
  {
   "cell_type": "markdown",
   "metadata": {},
   "source": [
    "# Example 3 - Movie Genre Associations\n",
    "\n",
    "It seems a bit boring playing only with basket analysis and imaginary datasets.\n",
    "\n",
    "In this example, let's play with an open dataset [MovieLens (small)](https://grouplens.org/datasets/movielens/).\n",
    "\n",
    "This dataset (ml-latest-small) describes 5-star rating and free-text tagging activity from MovieLens, a movie recommendation service. It contains 100004 ratings and 1296 tag applications across 9125 movies. These data were created by 671 users between January 09, 1995 and October 16, 2016.\n",
    "\n",
    "Users were selected at random for inclusion. All selected users had rated at least 20 movies. No demographic information is included. Each user is represented by an id, and no other information is provided."
   ]
  },
  {
   "cell_type": "markdown",
   "metadata": {},
   "source": [
    "We might want to take a look at the data and look at the stat first:"
   ]
  },
  {
   "cell_type": "code",
   "execution_count": 23,
   "metadata": {},
   "outputs": [],
   "source": [
    "movies = pd.read_csv('ml-latest-small/movies.csv')"
   ]
  },
  {
   "cell_type": "code",
   "execution_count": null,
   "metadata": {},
   "outputs": [],
   "source": [
    "movies.head(10)"
   ]
  },
  {
   "cell_type": "code",
   "execution_count": null,
   "metadata": {},
   "outputs": [],
   "source": [
    "movies_ohe = movies.drop('genres',1).join(movies.genres.str.get_dummies())"
   ]
  },
  {
   "cell_type": "code",
   "execution_count": 26,
   "metadata": {},
   "outputs": [],
   "source": [
    "pd.options.display.max_columns=100"
   ]
  },
  {
   "cell_type": "code",
   "execution_count": null,
   "metadata": {},
   "outputs": [],
   "source": [
    "movies_ohe.head()"
   ]
  },
  {
   "cell_type": "code",
   "execution_count": null,
   "metadata": {},
   "outputs": [],
   "source": [
    "stat1 = movies_ohe.drop(['title', 'movieId'],1).apply(pd.value_counts)"
   ]
  },
  {
   "cell_type": "code",
   "execution_count": null,
   "metadata": {},
   "outputs": [],
   "source": [
    "stat1 = stat1.transpose().drop(0,1).sort_values(by=1, ascending=False).rename(columns={1:'No. of movies'})"
   ]
  },
  {
   "cell_type": "code",
   "execution_count": 30,
   "metadata": {},
   "outputs": [],
   "source": [
    "stat2 = movies.join(movies.genres.str.split('|').reset_index().genres.str.len(), rsuffix='r').rename(columns={'genresr':'genre_count'})"
   ]
  },
  {
   "cell_type": "code",
   "execution_count": null,
   "metadata": {},
   "outputs": [],
   "source": [
    "stat2 = stat2[stat2['genre_count']==1].drop('movieId',1).groupby('genres').sum().sort_values(by='genre_count', ascending=False)"
   ]
  },
  {
   "cell_type": "code",
   "execution_count": 32,
   "metadata": {},
   "outputs": [],
   "source": [
    "stat = stat1.merge(stat2, how='left', left_index=True, right_index=True).fillna(0)"
   ]
  },
  {
   "cell_type": "code",
   "execution_count": 33,
   "metadata": {},
   "outputs": [],
   "source": [
    "stat.genre_count=stat.genre_count.astype(int)\n",
    "stat.rename(columns={'genre_count': 'No. of movies with only 1 genre'},inplace=True)"
   ]
  },
  {
   "cell_type": "code",
   "execution_count": null,
   "metadata": {},
   "outputs": [],
   "source": [
    "stat"
   ]
  },
  {
   "cell_type": "markdown",
   "metadata": {},
   "source": [
    "Hola! After some dizzy pandas works, we get the number of movies in each genre and the number of movies containing only 1 genre."
   ]
  },
  {
   "cell_type": "code",
   "execution_count": null,
   "metadata": {},
   "outputs": [],
   "source": [
    "import matplotlib.pyplot as plt\n",
    "%matplotlib inline\n",
    "movies_ohe.set_index(['movieId','title']).sum(axis=1).hist()\n",
    "plt.title('distribution of number of genres')"
   ]
  },
  {
   "cell_type": "markdown",
   "metadata": {},
   "source": [
    "One can always makes some graphical illustration."
   ]
  },
  {
   "cell_type": "markdown",
   "metadata": {},
   "source": [
    "### Let's get back to analysing the genre associations:"
   ]
  },
  {
   "cell_type": "code",
   "execution_count": 36,
   "metadata": {},
   "outputs": [],
   "source": [
    "movies_ohe.set_index(['movieId','title'],inplace=True)"
   ]
  },
  {
   "cell_type": "code",
   "execution_count": 37,
   "metadata": {},
   "outputs": [],
   "source": [
    "frequent_itemsets_movies = apriori(movies_ohe,use_colnames=True, min_support=0.025)"
   ]
  },
  {
   "cell_type": "code",
   "execution_count": null,
   "metadata": {},
   "outputs": [],
   "source": [
    "frequent_itemsets_movies"
   ]
  },
  {
   "cell_type": "code",
   "execution_count": 39,
   "metadata": {},
   "outputs": [],
   "source": [
    "rules_movies =  association_rules(frequent_itemsets_movies, metric='lift', min_threshold=1.25)"
   ]
  },
  {
   "cell_type": "code",
   "execution_count": null,
   "metadata": {},
   "outputs": [],
   "source": [
    "rules_movies"
   ]
  },
  {
   "cell_type": "markdown",
   "metadata": {},
   "source": [
    "***As we can see in this dataset, the support and hence confidence values are fairly small. This makes it difficult interpreting the result based on these two values. Whereas, the lift and conviction remains to very intuitive and representative. That is why we should understand the meaning of all of the 5 metrics to accurately interpret the result!***"
   ]
  },
  {
   "cell_type": "code",
   "execution_count": null,
   "metadata": {},
   "outputs": [],
   "source": [
    "rules_movies[(rules_movies.conviction>1.25)]"
   ]
  },
  {
   "cell_type": "markdown",
   "metadata": {},
   "source": [
    "* As we are expecting the {Romance, Drama} pair, it is not as correlated as other groups such as {Animation, Childres} which has a much higher lift & conviction levels."
   ]
  },
  {
   "cell_type": "code",
   "execution_count": null,
   "metadata": {},
   "outputs": [],
   "source": [
    "rules_movies[(rules_movies.conviction>1.5)].sort_values(by=['lift','conviction'], ascending=False)"
   ]
  },
  {
   "cell_type": "markdown",
   "metadata": {},
   "source": [
    "By making a subset with ordering with lift & conviction:\n",
    "\n",
    "* The highest correlation: {Animation, Childres} correlates in both directions! Recall those Pixar & Disney films that we love watching\n",
    "* {Children, Adventure} ...\n",
    "* {Fantasy, Adventure} ... How to interpret these two pairs?\n",
    "\n",
    "The best way is to go back to your movies table and check it out!"
   ]
  },
  {
   "cell_type": "code",
   "execution_count": 43,
   "metadata": {},
   "outputs": [],
   "source": [
    "pd.options.display.max_rows=50"
   ]
  },
  {
   "cell_type": "markdown",
   "metadata": {},
   "source": [
    "So we want Adventure & Children but NOT Animation..."
   ]
  },
  {
   "cell_type": "code",
   "execution_count": 1,
   "metadata": {},
   "outputs": [
    {
     "ename": "NameError",
     "evalue": "name 'movies' is not defined",
     "output_type": "error",
     "traceback": [
      "\u001b[1;31m---------------------------------------------------------------------------\u001b[0m",
      "\u001b[1;31mNameError\u001b[0m                                 Traceback (most recent call last)",
      "Cell \u001b[1;32mIn[1], line 1\u001b[0m\n\u001b[1;32m----> 1\u001b[0m \u001b[43mmovies\u001b[49m[(movies\u001b[38;5;241m.\u001b[39mgenres\u001b[38;5;241m.\u001b[39mstr\u001b[38;5;241m.\u001b[39mcontains(\u001b[38;5;124m'\u001b[39m\u001b[38;5;124mAdventure\u001b[39m\u001b[38;5;124m'\u001b[39m)) \u001b[38;5;241m&\u001b[39m (movies\u001b[38;5;241m.\u001b[39mgenres\u001b[38;5;241m.\u001b[39mstr\u001b[38;5;241m.\u001b[39mcontains(\u001b[38;5;124m'\u001b[39m\u001b[38;5;124mChildren\u001b[39m\u001b[38;5;124m'\u001b[39m)) \u001b[38;5;241m&\u001b[39m (\u001b[38;5;241m~\u001b[39mmovies\u001b[38;5;241m.\u001b[39mgenres\u001b[38;5;241m.\u001b[39mstr\u001b[38;5;241m.\u001b[39mcontains(\u001b[38;5;124m'\u001b[39m\u001b[38;5;124mAnimation\u001b[39m\u001b[38;5;124m'\u001b[39m))]\n",
      "\u001b[1;31mNameError\u001b[0m: name 'movies' is not defined"
     ]
    }
   ],
   "source": [
    "movies[(movies.genres.str.contains('Adventure')) & (movies.genres.str.contains('Children')) & (~movies.genres.str.contains('Animation'))]"
   ]
  },
  {
   "cell_type": "markdown",
   "metadata": {},
   "source": [
    "# Summary"
   ]
  },
  {
   "cell_type": "markdown",
   "metadata": {},
   "source": [
    "To recap, a straightforward 4-steps approach to association rule:\n",
    "\n",
    "1. One-hot encone the basket in dataframe.\n",
    "2. Generate frequent itemsets using `apriori`.\n",
    "3. Generate rule with `association_rules`.\n",
    "4. Interpret & evalute the result with metrics."
   ]
  }
 ],
 "metadata": {
  "kernelspec": {
   "display_name": ".venv",
   "language": "python",
   "name": "python3"
  },
  "language_info": {
   "codemirror_mode": {
    "name": "ipython",
    "version": 3
   },
   "file_extension": ".py",
   "mimetype": "text/x-python",
   "name": "python",
   "nbconvert_exporter": "python",
   "pygments_lexer": "ipython3",
   "version": "3.10.11"
  }
 },
 "nbformat": 4,
 "nbformat_minor": 2
}
